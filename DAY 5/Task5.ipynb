{
 "cells": [
  {
   "cell_type": "code",
   "execution_count": 1,
   "metadata": {},
   "outputs": [
    {
     "name": "stdout",
     "output_type": "stream",
     "text": [
      "Cluster Size:\n",
      " Cluster\n",
      "0    53\n",
      "1    50\n",
      "2    47\n",
      "Name: count, dtype: int64\n",
      "\n",
      "Cluster Centroids (Feature Means):\n",
      "          sepal length (cm)  sepal width (cm)  petal length (cm)  \\\n",
      "Cluster                                                           \n",
      "0                 5.801887          2.673585           4.369811   \n",
      "1                 5.006000          3.428000           1.462000   \n",
      "2                 6.780851          3.095745           5.510638   \n",
      "\n",
      "         petal width (cm)  \n",
      "Cluster                    \n",
      "0                1.413208  \n",
      "1                0.246000  \n",
      "2                1.972340  \n"
     ]
    }
   ],
   "source": [
    "import pandas as pd\n",
    "import numpy as np\n",
    "from sklearn.cluster import KMeans\n",
    "from sklearn.datasets import load_iris\n",
    "from sklearn.preprocessing import StandardScaler\n",
    "\n",
    "iris = load_iris()\n",
    "X = iris.data  # Features\n",
    "feature_names = iris.feature_names\n",
    "\n",
    "scaler = StandardScaler()\n",
    "X_scaled = scaler.fit_transform(X)\n",
    "\n",
    "k = 3  \n",
    "kmeans = KMeans(n_clusters=k, random_state=42, n_init=10)\n",
    "clusters = kmeans.fit_predict(X_scaled)\n",
    "\n",
    "df = pd.DataFrame(X, columns=feature_names)\n",
    "df['Cluster'] = clusters\n",
    "\n",
    "cluster_summary = df.groupby('Cluster').mean()\n",
    "cluster_sizes = df['Cluster'].value_counts().sort_index()\n",
    "\n",
    "print(\"Cluster Size:\\n\", cluster_sizes)\n",
    "print(\"\\nCluster Centroids (Feature Means):\\n\", cluster_summary)\n"
   ]
  }
 ],
 "metadata": {
  "kernelspec": {
   "display_name": "Python 3",
   "language": "python",
   "name": "python3"
  },
  "language_info": {
   "codemirror_mode": {
    "name": "ipython",
    "version": 3
   },
   "file_extension": ".py",
   "mimetype": "text/x-python",
   "name": "python",
   "nbconvert_exporter": "python",
   "pygments_lexer": "ipython3",
   "version": "3.10.11"
  }
 },
 "nbformat": 4,
 "nbformat_minor": 2
}
