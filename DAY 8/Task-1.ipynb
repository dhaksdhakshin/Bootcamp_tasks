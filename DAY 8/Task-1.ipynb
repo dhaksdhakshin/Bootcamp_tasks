{
 "cells": [
  {
   "cell_type": "code",
   "execution_count": 2,
   "metadata": {},
   "outputs": [
    {
     "name": "stdout",
     "output_type": "stream",
     "text": [
      "Old W1: 1, New W1: 2.05\n",
      "Old W5: 1, New W5: 2.05\n",
      "Loss before update: 110.25\n"
     ]
    }
   ],
   "source": [
    "import numpy as np\n",
    "\n",
    "# Step 1: Define dataset\n",
    "X = np.array([5, 10, 30, 1])  # Features: [height, weight, age, smoking]\n",
    "y = 20  # Target output (premium cost)\n",
    "\n",
    "# Step 2: Initialize weights\n",
    "W1, W2, W3, W4, W5, W6 = 1, 0, -1, 0.5, 1, -1  # Given weights\n",
    "\n",
    "# Step 3: Forward Pass (compute hidden layer and output)\n",
    "H1 = W1 * X[0] + W2 * X[1]  # H1 = 1*5 + 0*10 = 5\n",
    "H2 = W3 * X[0] + W4 * X[3]  # H2 = -1*5 + 0.5*1 = -5 + 0.5 = -4.5\n",
    "y_hat = W5 * H1 + W6 * H2  # y_hat = 1*5 + (-1)*(-4.5) = 5 + 4.5 = 9.5\n",
    "\n",
    "# Step 4: Compute Loss (Squared Error)\n",
    "error = (y_hat - y) ** 2  # (9.5 - 20)² = 110.25\n",
    "\n",
    "# Step 5: Backpropagation (Manual Gradient Calculation)\n",
    "# ∂J/∂y_hat = 2 * (y_hat - y)\n",
    "grad_y_hat = 2 * (y_hat - y)  # 2 * (9.5 - 20) = -21\n",
    "\n",
    "# ∂J/∂W5 = ∂J/∂y_hat * ∂y_hat/∂W5 = (-21) * (H1) = -21 * 5 = -105\n",
    "W5_new = W5 - 0.01 * (-105)  # W5 = 1 + 1.05 = 2.05\n",
    "\n",
    "# ∂J/∂H1 = ∂J/∂y_hat * ∂y_hat/∂H1 = (-21) * W5 = (-21) * 1 = -21\n",
    "# ∂J/∂W1 = ∂J/∂H1 * ∂H1/∂W1 = (-21) * X[0] = -21 * 5 = -105\n",
    "W1_new = W1 - 0.01 * (-105)  # W1 = 1 + 1.05 = 2.05\n",
    "\n",
    "# Print results\n",
    "print(f\"Old W1: {W1}, New W1: {W1_new}\")\n",
    "print(f\"Old W5: {W5}, New W5: {W5_new}\")\n",
    "print(f\"Loss before update: {error}\")\n"
   ]
  },
  {
   "cell_type": "code",
   "execution_count": null,
   "metadata": {},
   "outputs": [],
   "source": []
  }
 ],
 "metadata": {
  "kernelspec": {
   "display_name": "base",
   "language": "python",
   "name": "python3"
  },
  "language_info": {
   "codemirror_mode": {
    "name": "ipython",
    "version": 3
   },
   "file_extension": ".py",
   "mimetype": "text/x-python",
   "name": "python",
   "nbconvert_exporter": "python",
   "pygments_lexer": "ipython3",
   "version": "3.12.3"
  }
 },
 "nbformat": 4,
 "nbformat_minor": 2
}
