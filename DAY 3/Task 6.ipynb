{
 "cells": [
  {
   "cell_type": "code",
   "execution_count": 1,
   "metadata": {},
   "outputs": [
    {
     "name": "stdout",
     "output_type": "stream",
     "text": [
      "Woof! Woof!\n",
      "Meow! Meow!\n"
     ]
    }
   ],
   "source": [
    "\n",
    "class Animal:\n",
    "    def speak(self):\n",
    "        raise NotImplementedError(\"Subclasses must implement the speak() method\")\n",
    "\n",
    "class Dog(Animal):\n",
    "    def speak(self):\n",
    "        return \"Woof! Woof!\"\n",
    "\n",
    "class Cat(Animal):\n",
    "    def speak(self):\n",
    "        return \"Meow! Meow!\"\n",
    "\n",
    "def animal_speak(animal):\n",
    "    print(animal.speak())\n",
    "\n",
    "dog = Dog()\n",
    "cat = Cat()\n",
    "\n",
    "animal_speak(dog)\n",
    "animal_speak(cat)  "
   ]
  },
  {
   "cell_type": "code",
   "execution_count": null,
   "metadata": {},
   "outputs": [],
   "source": []
  }
 ],
 "metadata": {
  "kernelspec": {
   "display_name": "Python 3",
   "language": "python",
   "name": "python3"
  },
  "language_info": {
   "codemirror_mode": {
    "name": "ipython",
    "version": 3
   },
   "file_extension": ".py",
   "mimetype": "text/x-python",
   "name": "python",
   "nbconvert_exporter": "python",
   "pygments_lexer": "ipython3",
   "version": "3.10.11"
  }
 },
 "nbformat": 4,
 "nbformat_minor": 2
}
