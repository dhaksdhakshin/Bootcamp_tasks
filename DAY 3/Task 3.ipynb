{
 "cells": [
  {
   "cell_type": "code",
   "execution_count": 1,
   "metadata": {},
   "outputs": [
    {
     "name": "stdout",
     "output_type": "stream",
     "text": [
      "Bella is barking! Woof! Woof!\n",
      "Bella is sleeping... Zzz...\n",
      "Bella is playing happily! 🐶🎾\n"
     ]
    }
   ],
   "source": [
    "\n",
    "class Dog:\n",
    "    def __init__(self, name, age):\n",
    "        self.name = name\n",
    "        self.age = age\n",
    "\n",
    "    def bark(self):\n",
    "        print(f\"{self.name} is barking! Woof! Woof!\")\n",
    "\n",
    "    def sleep(self):\n",
    "        print(f\"{self.name} is sleeping... Zzz...\")\n",
    "\n",
    "class Puppy(Dog):\n",
    "    def play(self):\n",
    "        print(f\"{self.name} is playing happily! 🐶🎾\")\n",
    "\n",
    "puppy1 = Puppy(\"Bella\", 1)\n",
    "puppy1.bark()\n",
    "puppy1.sleep()  \n",
    "puppy1.play()  "
   ]
  },
  {
   "cell_type": "code",
   "execution_count": null,
   "metadata": {},
   "outputs": [],
   "source": []
  }
 ],
 "metadata": {
  "kernelspec": {
   "display_name": "Python 3",
   "language": "python",
   "name": "python3"
  },
  "language_info": {
   "codemirror_mode": {
    "name": "ipython",
    "version": 3
   },
   "file_extension": ".py",
   "mimetype": "text/x-python",
   "name": "python",
   "nbconvert_exporter": "python",
   "pygments_lexer": "ipython3",
   "version": "3.10.11"
  }
 },
 "nbformat": 4,
 "nbformat_minor": 2
}
