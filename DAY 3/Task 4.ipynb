{
 "cells": [
  {
   "cell_type": "code",
   "execution_count": 1,
   "metadata": {},
   "outputs": [
    {
     "name": "stdout",
     "output_type": "stream",
     "text": [
      "Milo is barking! Woof! Woof!\n",
      "Milo is sleeping... Zzz...\n",
      "Milo is purring... Purrrr...\n",
      "Milo is meowing! Meow! Meow!\n",
      "Milo is a hybrid of a Dog and a Cat!\n"
     ]
    }
   ],
   "source": [
    "\n",
    "class Dog:\n",
    "    def __init__(self, name, age):\n",
    "        self.name = name\n",
    "        self.age = age\n",
    "\n",
    "    def bark(self):\n",
    "        print(f\"{self.name} is barking! Woof! Woof!\")\n",
    "\n",
    "    def sleep(self):\n",
    "        print(f\"{self.name} is sleeping... Zzz...\")\n",
    "\n",
    "class Cat:\n",
    "    def meow(self):\n",
    "        print(f\"{self.name} is meowing! Meow! Meow!\")\n",
    "\n",
    "    def purr(self):\n",
    "        print(f\"{self.name} is purring... Purrrr...\")\n",
    "\n",
    "class Hybrid(Dog, Cat):\n",
    "    def __init__(self, name, age):\n",
    "        super().__init__(name, age) \n",
    "\n",
    "    def show_traits(self):\n",
    "        print(f\"{self.name} is a hybrid of a Dog and a Cat!\")\n",
    "\n",
    "hybrid_animal = Hybrid(\"Milo\", 2)\n",
    "hybrid_animal.bark()\n",
    "hybrid_animal.sleep() \n",
    "hybrid_animal.purr() \n",
    "hybrid_animal.meow()   # \n",
    "hybrid_animal.show_traits()  "
   ]
  },
  {
   "cell_type": "code",
   "execution_count": null,
   "metadata": {},
   "outputs": [],
   "source": []
  }
 ],
 "metadata": {
  "kernelspec": {
   "display_name": "Python 3",
   "language": "python",
   "name": "python3"
  },
  "language_info": {
   "codemirror_mode": {
    "name": "ipython",
    "version": 3
   },
   "file_extension": ".py",
   "mimetype": "text/x-python",
   "name": "python",
   "nbconvert_exporter": "python",
   "pygments_lexer": "ipython3",
   "version": "3.10.11"
  }
 },
 "nbformat": 4,
 "nbformat_minor": 2
}
