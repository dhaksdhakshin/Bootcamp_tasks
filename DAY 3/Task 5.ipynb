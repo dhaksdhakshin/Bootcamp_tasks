{
 "cells": [
  {
   "cell_type": "code",
   "execution_count": 1,
   "metadata": {},
   "outputs": [
    {
     "name": "stdout",
     "output_type": "stream",
     "text": [
      "Model: RoboX\n",
      "Error: Cannot access private attribute __energy_level directly!\n",
      "Current Energy Level: 50\n",
      "Updated Energy Level: 80\n",
      "Energy level must be between 0 and 100.\n",
      "RoboX is fully charged!\n",
      "Energy after charging: 100\n"
     ]
    }
   ],
   "source": [
    "class Robot:\n",
    "    def __init__(self, model, energy_level):\n",
    "        self._model = model \n",
    "        self.__energy_level = energy_level  \n",
    "\n",
    "    def get_energy(self):\n",
    "        return self.__energy_level\n",
    "\n",
    "    def set_energy(self, energy):\n",
    "        if 0 <= energy <= 100:\n",
    "            self.__energy_level = energy\n",
    "        else:\n",
    "            print(\"Energy level must be between 0 and 100.\")\n",
    "\n",
    "    def charge(self):\n",
    "        self.__energy_level = 100\n",
    "        print(f\"{self._model} is fully charged!\")\n",
    "\n",
    "robot = Robot(\"RoboX\", 50)\n",
    "\n",
    "print(f\"Model: {robot._model}\") \n",
    "\n",
    "try:\n",
    "    print(robot.__energy_level) \n",
    "except AttributeError:\n",
    "    print(\"Error: Cannot access private attribute __energy_level directly!\")\n",
    "\n",
    "print(f\"Current Energy Level: {robot.get_energy()}\")\n",
    "\n",
    "robot.set_energy(80)\n",
    "print(f\"Updated Energy Level: {robot.get_energy()}\") \n",
    "robot.set_energy(150)  \n",
    "robot.charge()\n",
    "print(f\"Energy after charging: {robot.get_energy()}\")\n"
   ]
  },
  {
   "cell_type": "code",
   "execution_count": null,
   "metadata": {},
   "outputs": [],
   "source": []
  }
 ],
 "metadata": {
  "kernelspec": {
   "display_name": "Python 3",
   "language": "python",
   "name": "python3"
  },
  "language_info": {
   "codemirror_mode": {
    "name": "ipython",
    "version": 3
   },
   "file_extension": ".py",
   "mimetype": "text/x-python",
   "name": "python",
   "nbconvert_exporter": "python",
   "pygments_lexer": "ipython3",
   "version": "3.10.11"
  }
 },
 "nbformat": 4,
 "nbformat_minor": 2
}
