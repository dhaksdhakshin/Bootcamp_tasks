{
 "cells": [
  {
   "cell_type": "code",
   "execution_count": null,
   "id": "8247f366-f78a-457b-9e18-3a0883b638b1",
   "metadata": {},
   "outputs": [
    {
     "name": "stdout",
     "output_type": "stream",
     "text": [
      "Feature Impact on House Price Prediction:\n",
      "                 Impact\n",
      "Size_sqft  2.000000e+02\n",
      "Bedrooms  -1.522678e-12\n",
      "Age_years  4.567814e-12\n"
     ]
    }
   ],
   "source": [
    "import numpy as np\n",
    "import pandas as pd\n",
    "from sklearn.linear_model import LinearRegression\n",
    "\n",
    "\n",
    "data = {\n",
    "    \"Size_sqft\": [1000, 1500, 2000, 2500, 3000],\n",
    "    \"Bedrooms\": [2, 3, 3, 4, 5],\n",
    "    \"Age_years\": [10, 5, 2, 8, 1],\n",
    "    \"Price\": [300000, 400000, 500000, 600000, 700000]\n",
    "}\n",
    "\n",
    "df = pd.DataFrame(data)\n",
    "\n",
    "X = df[[\"Size_sqft\", \"Bedrooms\", \"Age_years\"]]\n",
    "y = df[\"Price\"]\n",
    "\n",
    "\n",
    "model = LinearRegression()\n",
    "model.fit(X, y)\n",
    "\n",
    "\n",
    "coefficients = pd.DataFrame(model.coef_, X.columns, columns=[\"Impact\"])\n",
    "\n",
    "\n",
    "print(\"Feature Impact on House Price Prediction:\")\n",
    "print(coefficients)\n"
   ]
  },
  {
   "cell_type": "code",
   "execution_count": null,
   "id": "766716fc-198c-481e-b923-52eb18072f6f",
   "metadata": {},
   "outputs": [],
   "source": []
  }
 ],
 "metadata": {
  "kernelspec": {
   "display_name": "Python 3 (ipykernel)",
   "language": "python",
   "name": "python3"
  },
  "language_info": {
   "codemirror_mode": {
    "name": "ipython",
    "version": 3
   },
   "file_extension": ".py",
   "mimetype": "text/x-python",
   "name": "python",
   "nbconvert_exporter": "python",
   "pygments_lexer": "ipython3",
   "version": "3.12.4"
  }
 },
 "nbformat": 4,
 "nbformat_minor": 5
}
