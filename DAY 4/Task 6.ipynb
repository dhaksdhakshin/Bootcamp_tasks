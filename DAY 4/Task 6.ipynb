{
 "cells": [
  {
   "cell_type": "code",
   "execution_count": null,
   "id": "ec3c9729-7715-43ef-8bb2-6c4975b9ac66",
   "metadata": {},
   "outputs": [],
   "source": [
    "class Dog:\n",
    "    def __init__(self, name, age):\n",
    "        self.name = name \n",
    "        self.age = age   \n",
    "\n",
    "    def bark(self):\n",
    "        print(f\"{self.name} is barking! Woof! Woof!\")\n",
    "\n",
    "    def sleep(self):\n",
    "        print(f\"{self.name} is sleeping... Zzz...\")\n"
   ]
  },
  {
   "cell_type": "code",
   "execution_count": null,
   "id": "e396ea33-e973-4068-a0ae-ef54207da605",
   "metadata": {},
   "outputs": [],
   "source": []
  }
 ],
 "metadata": {
  "kernelspec": {
   "display_name": "Python 3 (ipykernel)",
   "language": "python",
   "name": "python3"
  },
  "language_info": {
   "codemirror_mode": {
    "name": "ipython",
    "version": 3
   },
   "file_extension": ".py",
   "mimetype": "text/x-python",
   "name": "python",
   "nbconvert_exporter": "python",
   "pygments_lexer": "ipython3",
   "version": "3.12.4"
  }
 },
 "nbformat": 4,
 "nbformat_minor": 5
}
